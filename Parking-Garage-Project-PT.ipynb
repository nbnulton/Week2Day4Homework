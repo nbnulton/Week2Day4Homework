{
 "cells": [
  {
   "cell_type": "markdown",
   "metadata": {},
   "source": [
    "# Parking Garage Project\n",
    "\n",
    "Your assignment for today is to create a parking garage class to get more familiar with Object Oriented Programming(OOP). \n",
    "\n",
    "Your parking gargage class should have the following methods:\n",
    "- takeTicket\n",
    "   - This should decrease the amount of tickets available by 1\n",
    "   - This should decrease the amount of parkingSpaces available by 1\n",
    "- payForParking\n",
    "   - Display an input that waits for an amount from the user and store it in a variable\n",
    "   - If the payment variable is not empty then ->  display a message to the user that their ticket has been paid and they have 15mins to leave\n",
    "   - This should update the \"currentTicket\" dictionary key \"paid\" to True\n",
    "- leaveGarage\n",
    "   - If the ticket has been paid, display a message of \"Thank You, have a nice day\"\n",
    "   - If the ticket has not been paid, display an input prompt for payment\n",
    "      - Once paid, display message \"Thank you, have a nice day!\"\n",
    "   - Update parkingSpaces list to increase by 1\n",
    "   - Update tickets list to increase by 1\n",
    "\n",
    "You will need a few attributes as well:\n",
    "- tickets -> list\n",
    "- parkingSpaces -> list\n",
    "- currentTicket -> dictionary"
   ]
  },
  {
   "cell_type": "code",
   "execution_count": 9,
   "metadata": {},
   "outputs": [
    {
     "ename": "SyntaxError",
     "evalue": "invalid syntax (<ipython-input-9-e2523534ea29>, line 31)",
     "output_type": "error",
     "traceback": [
      "\u001b[1;36m  File \u001b[1;32m\"<ipython-input-9-e2523534ea29>\"\u001b[1;36m, line \u001b[1;32m31\u001b[0m\n\u001b[1;33m    self.tickets[0] = self.current_ticket {self.tickets[0],\"\"}\u001b[0m\n\u001b[1;37m    ^\u001b[0m\n\u001b[1;31mSyntaxError\u001b[0m\u001b[1;31m:\u001b[0m invalid syntax\n"
     ]
    }
   ],
   "source": [
    "# Parking Garage:\n",
    "\n",
    "# dictionary {ticket, space}\n",
    "from IPython.display import clear_output\n",
    "\n",
    "class Screen():\n",
    "\n",
    "    def __init__(self, parking):\n",
    "        self.parking = parking\n",
    "        \n",
    "    def run_program(self):\n",
    "        while True:\n",
    "            response = input(\"What do you want to do: park, pay, or leave?\")\n",
    "            if response.lower == \"park\":\n",
    "                self.parking.park()\n",
    "            if response.lower == \"pay\":\n",
    "                self.parking.pay()\n",
    "            if response.lower == \"leave\":\n",
    "                self.parking.leave()\n",
    "    \n",
    "\n",
    "class Parking():\n",
    "\n",
    "    def __init__(self, tickets, parking_spaces, currentTicket):\n",
    "        self.tickets = [1,2,3,4,5]\n",
    "        self.parking_spaces = [1,2,3,4,5]\n",
    "        self.current_ticket = {}\n",
    "        \n",
    "    def park(self, tickets, parking_spaces, currentTicket:\n",
    "        print(\"Parking: Printing ticket/space #: \", {tickets[0]})\n",
    "        self.tickets[0] = self.current_ticket {self.tickets[0],\"\"}\n",
    "        self.parking_spaces = self.current_ticket {\"\", self.parking_spaces[0]}\n",
    "        self.tickets[0] = self.tickets.remove()\n",
    "        self.parking_spaces[0] = self.parking_spaces.remove()\n",
    "        self.tickets = self.tickets.sort()\n",
    "        self.parking_spaces = self.parking_spaces.sort()\n",
    "\n",
    "    def pay(self, current_ticket):\n",
    "        ticket_number = input(\"Paying: Please enter ticket/space #: \")\n",
    "        if ticket_number in self.current_ticket:\n",
    "            print(f\"\", {ticket_number}, \" - Processing Payment... Payment Complete. You have 15 minutes to leave.\")\n",
    "        else:\n",
    "            input(\"Invalid ticket/space #. Please re-enter correct ticket/space #: \")\n",
    "    \n",
    "    def leave(self, tickets, parking_spaces):\n",
    "        ticket_number = input(\"Leaving: Please enter ticket/space #: \")\n",
    "        if ticket_number in self.current_ticket:\n",
    "        print(\"Thank you, have a nice day!\")\n",
    "            self.current_ticket = self.current_ticket.remove(ticket_number)\n",
    "            self.tickets = tickets.append(ticket_number)\n",
    "            parking_spaces = parking_spaces.append(ticket_number)\n",
    "            self.tickets = self.tickets.sort()\n",
    "            self.parking_spaces = self.parking_spaces.sort()\n",
    "\n",
    "\n",
    "            \n",
    "\n",
    "screen.run_program()\n"
   ]
  },
  {
   "cell_type": "code",
   "execution_count": null,
   "metadata": {},
   "outputs": [],
   "source": []
  }
 ],
 "metadata": {
  "kernelspec": {
   "display_name": "Python 3",
   "language": "python",
   "name": "python3"
  },
  "language_info": {
   "codemirror_mode": {
    "name": "ipython",
    "version": 3
   },
   "file_extension": ".py",
   "mimetype": "text/x-python",
   "name": "python",
   "nbconvert_exporter": "python",
   "pygments_lexer": "ipython3",
   "version": "3.8.8"
  }
 },
 "nbformat": 4,
 "nbformat_minor": 2
}
